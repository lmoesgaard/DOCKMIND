{
 "cells": [
  {
   "cell_type": "markdown",
   "id": "f69da44a-9622-4eed-97bd-0a1873cac2ce",
   "metadata": {},
   "source": [
    "# Interactive Fitting of the Hit Rate Curves\n",
    "\n",
    "This interactive notebook allows the user to manually and interactively experiment with parameters of the hit rate model."
   ]
  },
  {
   "cell_type": "markdown",
   "id": "65bbe656-9208-47ca-8219-2887deacf422",
   "metadata": {},
   "source": [
    "## Prepare Inputs for Examples\n",
    "### Load Libraries"
   ]
  },
  {
   "cell_type": "code",
   "execution_count": 1,
   "id": "16466f9c-4517-4e8c-821c-37eb3618670b",
   "metadata": {
    "editable": true,
    "slideshow": {
     "slide_type": ""
    },
    "tags": []
   },
   "outputs": [],
   "source": [
    "# --- Import necessary libraries ---\n",
    "import numpy as np\n",
    "import pandas as pd\n",
    "import matplotlib.pyplot as plt\n",
    "import seaborn as sns\n",
    "from ipywidgets import interact\n",
    "import ipywidgets as widgets\n",
    "\n",
    "from model import HitRateModel"
   ]
  },
  {
   "cell_type": "markdown",
   "id": "748d9032-c263-4937-964e-280c05a4d452",
   "metadata": {},
   "source": [
    "### Load Experimental Data"
   ]
  },
  {
   "cell_type": "code",
   "execution_count": 2,
   "id": "fae41218-50b0-44e5-b030-449778844b82",
   "metadata": {},
   "outputs": [],
   "source": [
    "# Load experimental hit rate data with confidence intervals\n",
    "df = pd.read_csv(\"data/hitrates_conf_intervals.csv\")\n",
    "\n",
    "# Group the data by target for easy access\n",
    "data = {target: subset for target, subset in df.groupby(\"target\")}\n",
    "n_targets = len(data)"
   ]
  },
  {
   "cell_type": "markdown",
   "id": "ee89b3ac-3c56-44c3-8e10-1da08feca5fc",
   "metadata": {},
   "source": [
    "### Setup a Class for the Interactive Plot"
   ]
  },
  {
   "cell_type": "code",
   "execution_count": 3,
   "id": "fdeb0e53-7355-4e88-8b44-70f6a5676dc2",
   "metadata": {
    "editable": true,
    "slideshow": {
     "slide_type": ""
    },
    "tags": []
   },
   "outputs": [],
   "source": [
    "class InteractivePlot:\n",
    "    def __init__(self, data, pprop_lims=(0.5, 7.5)):\n",
    "        self.data = data # Dictionary of dataframes keyed by target.\n",
    "        self.pprop_lims = pprop_lims # Range of pProp values to consider.\n",
    "        self.pprop = np.linspace(*pprop_lims, 50) # pProp values for plotting\n",
    "\n",
    "    def interactive_plot(self, target, artifact_mean, artifact_std, p_art_freq, rho, exp_mean, exp_std):\n",
    "        # Prepare target data\n",
    "        df_exp = self.data[target][[\"pprop\", \"hit_rate_mean\", \"definition\"]].copy()\n",
    "        df_exp[\"Experimental\"] = True\n",
    "        definitions = df_exp[\"definition\"].unique()\n",
    "\n",
    "        # Initialize model\n",
    "        model_params = {\n",
    "            \"artifact_mean\": artifact_mean,\n",
    "            \"artifact_std\": artifact_std,\n",
    "            \"artifact_freq\": 10 ** (-p_art_freq),\n",
    "            \"rho\": -rho,\n",
    "            \"exp_mean\": exp_mean,\n",
    "            \"exp_std\": exp_std}\n",
    "        hrm = HitRateModel(model_params)\n",
    "\n",
    "        # Generate predictions for each definition\n",
    "        df_list = [df_exp]\n",
    "        for def_val in definitions:\n",
    "            predicted_hr = hrm.get_pprop_hr(self.pprop, np.full_like(self.pprop, def_val))\n",
    "            # A new DataFrame is generated for each definition\n",
    "            df_pred = pd.DataFrame({\n",
    "                \"pprop\": self.pprop,\n",
    "                \"hit_rate_mean\": predicted_hr,\n",
    "                \"definition\": def_val,\n",
    "                \"Experimental\": False\n",
    "            })\n",
    "            df_list.append(df_pred)\n",
    "\n",
    "        # Concatenate and scale hit rate\n",
    "        df_all = pd.concat(df_list)\n",
    "        df_all[\"hit_rate_mean\"] *= 100\n",
    "        df_all[\"definition\"] = df_all[\"definition\"].apply(lambda x: f\"{x:.2f}\")\n",
    "\n",
    "        # Plot\n",
    "        fig, ax = plt.subplots(figsize=(6, 4))\n",
    "        sns.set_theme()\n",
    "        sns.lineplot(\n",
    "            data=df_all,\n",
    "            x=\"pprop\",\n",
    "            y=\"hit_rate_mean\",\n",
    "            hue=\"definition\",\n",
    "            style=\"Experimental\",\n",
    "            palette=\"Set1\",\n",
    "            ax=ax\n",
    "        )\n",
    "        ax.set_xlim(*self.pprop_lims)\n",
    "        ax.set_ylim(0, 100)\n",
    "        ax.set_xlabel(\"pProp (–log(fractional rank))\")\n",
    "        ax.set_ylabel(\"Hit Rate (%)\")\n",
    "        ax.set_title(f\"Target: {target}\")\n",
    "\n",
    "        plt.tight_layout()\n",
    "        plt.show()"
   ]
  },
  {
   "cell_type": "markdown",
   "id": "3ae6f222-c463-402a-baac-9f44e72b5781",
   "metadata": {},
   "source": [
    "## Run the Interactive Plot"
   ]
  },
  {
   "cell_type": "code",
   "execution_count": 4,
   "id": "8e1cce4f-54f6-4c33-b0db-8fcac305668e",
   "metadata": {
    "editable": true,
    "slideshow": {
     "slide_type": ""
    },
    "tags": []
   },
   "outputs": [
    {
     "data": {
      "application/vnd.jupyter.widget-view+json": {
       "model_id": "7e9f1d09622c49318fe9d085219e9e53",
       "version_major": 2,
       "version_minor": 0
      },
      "text/plain": [
       "interactive(children=(Dropdown(description='target', options=('ampc', 'd4', 'sigma2'), value='ampc'), FloatSli…"
      ]
     },
     "metadata": {},
     "output_type": "display_data"
    },
    {
     "data": {
      "text/plain": [
       "<function ipywidgets.widgets.interaction._InteractFactory.__call__.<locals>.<lambda>(*args, **kwargs)>"
      ]
     },
     "execution_count": 4,
     "metadata": {},
     "output_type": "execute_result"
    }
   ],
   "source": [
    "plot = InteractivePlot(data=data, pprop_lims=(0.5,7.5))\n",
    "\n",
    "# Create interactive widget\n",
    "interact(\n",
    "    plot.interactive_plot, \n",
    "    target=data.keys(),\n",
    "    artifact_mean=(-6, 0, 0.1), \n",
    "    artifact_std=(0.1, 1, 0.1), \n",
    "    p_art_freq=(0, 7, 0.1), \n",
    "    rho=(0, 0.95, 0.05), \n",
    "    exp_mean=(-4, 4, 0.1),\n",
    "    exp_std=(0.5, 3, 0.1))"
   ]
  }
 ],
 "metadata": {
  "kernelspec": {
   "display_name": "Python 3 (ipykernel)",
   "language": "python",
   "name": "python3"
  },
  "language_info": {
   "codemirror_mode": {
    "name": "ipython",
    "version": 3
   },
   "file_extension": ".py",
   "mimetype": "text/x-python",
   "name": "python",
   "nbconvert_exporter": "python",
   "pygments_lexer": "ipython3",
   "version": "3.12.2"
  }
 },
 "nbformat": 4,
 "nbformat_minor": 5
}
